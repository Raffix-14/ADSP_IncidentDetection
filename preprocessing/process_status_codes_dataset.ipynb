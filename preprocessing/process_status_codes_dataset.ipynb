{
 "cells": [
  {
   "cell_type": "code",
   "execution_count": null,
   "metadata": {},
   "outputs": [],
   "source": [
    "import pandas as pd\n",
    "import numpy as np\n",
    "import json"
   ]
  },
  {
   "cell_type": "code",
   "execution_count": null,
   "metadata": {},
   "outputs": [],
   "source": [
    "multi_label_name = \"multi_label_train_status_codes\"\n",
    "export_name = \"multi_label_train\"\n",
    "version = \"v0.4\""
   ]
  },
  {
   "cell_type": "code",
   "execution_count": null,
   "metadata": {},
   "outputs": [],
   "source": [
    "df = pd.read_pickle(\"../data/\"+multi_label_name+\".pkl\")\n",
    "df"
   ]
  },
  {
   "cell_type": "code",
   "execution_count": null,
   "metadata": {},
   "outputs": [],
   "source": [
    "if \"key\" not in df.columns:\n",
    "    with open(\"../data/\"+export_name+\".json\") as f:\n",
    "        data = json.load(f)\n",
    "    \n",
    "    keys = data.keys()\n",
    "\n",
    "    df[\"key\"] = keys\n",
    "\n",
    "df[\"key\"] = df[\"key\"].apply(lambda x: x.replace(\"/\", \"_\"))"
   ]
  },
  {
   "cell_type": "code",
   "execution_count": null,
   "metadata": {},
   "outputs": [],
   "source": [
    "if \"valid_image\" not in df.columns:\n",
    "    with open(\"../data/image_status.json\") as f:\n",
    "        data = json.load(f)\n",
    "    \n",
    "    df[\"valid_image\"] = df[\"image_id\"].apply(lambda x: data.get(x+\".jpg\", False))\n",
    "\n",
    "df"
   ]
  },
  {
   "cell_type": "code",
   "execution_count": null,
   "metadata": {},
   "outputs": [],
   "source": [
    "df[\"downloadable\"] = df[\"image_id\"].apply(lambda x: x.isnumeric() == False)\n",
    "df"
   ]
  },
  {
   "cell_type": "code",
   "execution_count": null,
   "metadata": {},
   "outputs": [],
   "source": []
  },
  {
   "cell_type": "code",
   "execution_count": null,
   "metadata": {},
   "outputs": [],
   "source": [
    "df[\"incidents_list\"] = df[\"incidents\"].apply(lambda x: \", \".join(sorted([k for k, v in dict(x).items() if v == 1])))\n",
    "df[\"incidents_list\"] = df[\"incidents_list\"].replace(\"\", \"unknown\")\n",
    "\n",
    "df[\"places_list\"] = df[\"places\"].apply(lambda x: \", \".join(sorted([k for k, v in dict(x).items() if v == 1])))\n",
    "df[\"places_list\"] = df[\"places_list\"].replace(\"\", \"unknown\")\n",
    "\n",
    "df"
   ]
  },
  {
   "cell_type": "code",
   "execution_count": null,
   "metadata": {},
   "outputs": [],
   "source": [
    "df.to_pickle(\"../data/\"+export_name+\"_\"+version+\".pkl\")\n",
    "\n",
    "df = pd.read_pickle(\"../data/\"+export_name+\"_\"+version+\".pkl\")\n",
    "df"
   ]
  }
 ],
 "metadata": {
  "kernelspec": {
   "display_name": "Python 3.9.15 ('venv')",
   "language": "python",
   "name": "python3"
  },
  "language_info": {
   "codemirror_mode": {
    "name": "ipython",
    "version": 3
   },
   "file_extension": ".py",
   "mimetype": "text/x-python",
   "name": "python",
   "nbconvert_exporter": "python",
   "pygments_lexer": "ipython3",
   "version": "3.9.15"
  },
  "orig_nbformat": 4,
  "vscode": {
   "interpreter": {
    "hash": "6655079992cf3ca6c7b4d0fc4f53f8fec2a40778dc0c308ebbc2a1d2522b315d"
   }
  }
 },
 "nbformat": 4,
 "nbformat_minor": 2
}
